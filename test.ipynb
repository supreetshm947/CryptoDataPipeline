{
 "cells": [
  {
   "cell_type": "code",
   "execution_count": 2,
   "metadata": {},
   "outputs": [],
   "source": [
    "import coin_utils_delta as coin_utils\n",
    "from spark_connector.session_utils import get_spark_session\n",
    "import pandas as pd\n",
    "from pyspark.sql.functions import col"
   ]
  },
  {
   "cell_type": "code",
   "execution_count": 44,
   "metadata": {},
   "outputs": [],
   "source": [
    "from pyspark.sql.types import StructType, StructField, StringType, IntegerType, BooleanType, DoubleType, TimestampType, LongType, MapType\n",
    "from pyspark.sql.functions import col, to_timestamp, lit\n"
   ]
  },
  {
   "cell_type": "code",
   "execution_count": 3,
   "metadata": {},
   "outputs": [
    {
     "name": "stderr",
     "output_type": "stream",
     "text": [
      "24/09/08 23:54:31 WARN Utils: Your hostname, Sandeshs-MacBook-Air.local resolves to a loopback address: 127.0.0.1; using 10.149.131.208 instead (on interface en0)\n",
      "24/09/08 23:54:31 WARN Utils: Set SPARK_LOCAL_IP if you need to bind to another address\n",
      "Ivy Default Cache set to: /Users/sandeshmemane/.ivy2/cache\n",
      "The jars for the packages stored in: /Users/sandeshmemane/.ivy2/jars\n",
      "io.delta#delta-core_2.12 added as a dependency\n",
      "org.apache.hadoop#hadoop-aws added as a dependency\n",
      ":: resolving dependencies :: org.apache.spark#spark-submit-parent-c87eb7f2-960d-41e7-b054-7b733500c519;1.0\n",
      "\tconfs: [default]\n"
     ]
    },
    {
     "name": "stdout",
     "output_type": "stream",
     "text": [
      ":: loading settings :: url = jar:file:/Users/sandeshmemane/opt/anaconda3/envs/env-coin-de/lib/python3.10/site-packages/pyspark/jars/ivy-2.5.1.jar!/org/apache/ivy/core/settings/ivysettings.xml\n"
     ]
    },
    {
     "name": "stderr",
     "output_type": "stream",
     "text": [
      "\tfound io.delta#delta-core_2.12;2.1.0 in central\n",
      "\tfound io.delta#delta-storage;2.1.0 in central\n",
      "\tfound org.antlr#antlr4-runtime;4.8 in central\n",
      "\tfound org.codehaus.jackson#jackson-core-asl;1.9.13 in central\n",
      "\tfound org.apache.hadoop#hadoop-aws;3.4.0 in central\n",
      "\tfound software.amazon.awssdk#bundle;2.23.19 in central\n",
      "\tfound org.wildfly.openssl#wildfly-openssl;1.1.3.Final in central\n",
      ":: resolution report :: resolve 294ms :: artifacts dl 12ms\n",
      "\t:: modules in use:\n",
      "\tio.delta#delta-core_2.12;2.1.0 from central in [default]\n",
      "\tio.delta#delta-storage;2.1.0 from central in [default]\n",
      "\torg.antlr#antlr4-runtime;4.8 from central in [default]\n",
      "\torg.apache.hadoop#hadoop-aws;3.4.0 from central in [default]\n",
      "\torg.codehaus.jackson#jackson-core-asl;1.9.13 from central in [default]\n",
      "\torg.wildfly.openssl#wildfly-openssl;1.1.3.Final from central in [default]\n",
      "\tsoftware.amazon.awssdk#bundle;2.23.19 from central in [default]\n",
      "\t---------------------------------------------------------------------\n",
      "\t|                  |            modules            ||   artifacts   |\n",
      "\t|       conf       | number| search|dwnlded|evicted|| number|dwnlded|\n",
      "\t---------------------------------------------------------------------\n",
      "\t|      default     |   7   |   0   |   0   |   0   ||   7   |   0   |\n",
      "\t---------------------------------------------------------------------\n",
      ":: retrieving :: org.apache.spark#spark-submit-parent-c87eb7f2-960d-41e7-b054-7b733500c519\n",
      "\tconfs: [default]\n",
      "\t0 artifacts copied, 7 already retrieved (0kB/6ms)\n",
      "24/09/08 23:54:31 WARN NativeCodeLoader: Unable to load native-hadoop library for your platform... using builtin-java classes where applicable\n",
      "Setting default log level to \"WARN\".\n",
      "To adjust logging level use sc.setLogLevel(newLevel). For SparkR, use setLogLevel(newLevel).\n",
      "2024-09-08 23:54:36,807 - INFO - Spark Session Started.\n"
     ]
    }
   ],
   "source": [
    "session = get_spark_session()"
   ]
  },
  {
   "cell_type": "code",
   "execution_count": 4,
   "metadata": {},
   "outputs": [
    {
     "name": "stderr",
     "output_type": "stream",
     "text": [
      "2024-09-08 23:55:42,275 - INFO - Coins fetched: 71939\n",
      "2024-09-08 23:55:42,289 - INFO - Coins first 5 rows:                  id          name symbol  rank  is_new  is_active   type\n",
      "0       btc-bitcoin       Bitcoin    BTC     1   False       True   coin\n",
      "1      eth-ethereum      Ethereum    ETH     2   False       True   coin\n",
      "2       usdt-tether        Tether   USDT     3   False       True  token\n",
      "3  bnb-binance-coin  Binance Coin    BNB     4   False       True   coin\n",
      "4        sol-solana        Solana    SOL     5   False       True   coin\n",
      "2024-09-08 23:55:42,297 - INFO - Number of coins to fetch: 5\n",
      "2024-09-08 23:55:42,306 - INFO - Number of coins to load: 10\n",
      "2024-09-08 23:55:42,309 - INFO - First 5 coins to load:                  id          name symbol  rank  is_new  is_active   type\n",
      "0       btc-bitcoin       Bitcoin    BTC     1   False       True   coin\n",
      "1      eth-ethereum      Ethereum    ETH     2   False       True   coin\n",
      "2       usdt-tether        Tether   USDT     3   False       True  token\n",
      "3  bnb-binance-coin  Binance Coin    BNB     4   False       True   coin\n",
      "4        sol-solana        Solana    SOL     5   False       True   coin\n"
     ]
    }
   ],
   "source": [
    "check = coin_utils.load_coin_metadata(session)"
   ]
  },
  {
   "cell_type": "code",
   "execution_count": 41,
   "metadata": {},
   "outputs": [],
   "source": [
    "schema = StructType([\n",
    "    StructField('id', StringType(), True),\n",
    "    StructField('name', StringType(), True),\n",
    "    StructField('symbol', StringType(), True),\n",
    "    StructField('rank', IntegerType(), True),\n",
    "    StructField('is_new', BooleanType(), True),\n",
    "    StructField('is_active', BooleanType(), True),\n",
    "    StructField('type', StringType(), True),\n",
    "    StructField('description', StringType(), True),\n",
    "    StructField('started_at', StringType(), True),  # Initially StringType for conversion later\n",
    "    StructField('development_status', StringType(), True),\n",
    "    StructField('hardware_wallet', BooleanType(), True),\n",
    "    StructField('proof_type', StringType(), True),\n",
    "    StructField('org_structure', StringType(), True),\n",
    "    StructField('hash_algorithm', StringType(), True),\n",
    "    StructField('total_supply', LongType(), True),  # Use LongType for large integers\n",
    "    StructField('max_supply', LongType(), True),    # Use LongType for large integers\n",
    "    StructField('last_updated', StringType(), True),  # Initially StringType for conversion later\n",
    "    StructField('quotes', MapType(StringType(), MapType(StringType(), StringType())), True)  # Extract price from here\n",
    "])"
   ]
  },
  {
   "cell_type": "code",
   "execution_count": 46,
   "metadata": {},
   "outputs": [
    {
     "name": "stdout",
     "output_type": "stream",
     "text": [
      "+-----------------+------------+--------+----+------+---------+-----+--------------------+-------------------+------------------+---------------+--------------------+--------------------+----------------+------------+----------+-------------------+--------------------+------------+\n",
      "|               id|        name|  symbol|rank|is_new|is_active| type|         description|         started_at|development_status|hardware_wallet|          proof_type|       org_structure|  hash_algorithm|total_supply|max_supply|       last_updated|           price_usd|is_monitored|\n",
      "+-----------------+------------+--------+----+------+---------+-----+--------------------+-------------------+------------------+---------------+--------------------+--------------------+----------------+------------+----------+-------------------+--------------------+------------+\n",
      "|      btc-bitcoin|     Bitcoin|     BTC|   1| false|     true| coin|Bitcoin is a cryp...|2009-01-03 00:00:00|   Working product|           true|       Proof of Work|       Decentralized|          SHA256|    19718978|  21000000|2024-09-08 21:53:35|  54483.840025416335|        true|\n",
      "|     eth-ethereum|    Ethereum|     ETH|   2| false|     true| coin|Ethereum is a dec...|2015-07-30 00:00:00|   Working product|           true|      Proof of Stake|    Semi-centralized|          Ethash|   120232214|         0|2024-09-08 21:44:35|   2285.370034194849|        true|\n",
      "|      usdt-tether|      Tether|    USDT|   3| false|     true|token|Tether (USDT) is ...|2015-02-25 00:00:00|   Working product|           true|        Not mineable|         Centralized|            None|123529724022|         0|2024-09-08 21:53:36|  1.0007947852141215|        true|\n",
      "| bnb-binance-coin|Binance Coin|     BNB|   4| false|     true| coin|Binance Coin is t...|2017-07-15 00:00:00|   Working product|           true|Byzantine Fault T...|         Centralized|Tendermint (BFT)|   148930232| 200000000|2024-09-08 21:53:36|  499.27985934610143|        true|\n",
      "|       sol-solana|      Solana|     SOL|   5| false|     true| coin|Solana is a publi...|2020-04-10 00:00:00|   Working product|          false|Delegated Proof o...|Centralized > Hie...|       Tower BFT|   584141277|         0|2024-09-08 21:50:36|  129.31875402599422|        true|\n",
      "|      sherk-sherk|       Sherk|   SHERK|1391|  true|     true|token|                    |               NULL|                NA|           true|                  NA|                  NA|              NA|  1000000000|1000000000|2024-09-08 21:53:50|8.293676390066597E-4|        true|\n",
      "|        dotz-dotz|        DOTZ|    DOTZ|1440|  true|     true|token|                    |               NULL|                NA|          false|                  NA|                  NA|              NA|   828974605|1000000000|2024-09-08 21:53:50|0.002123294989146141|        true|\n",
      "|vistadog-vistadog|    VISTADOG|VISTADOG|1549|  true|     true|token|                    |               NULL|                NA|           true|                  NA|                  NA|              NA|   100000000| 100000000|2024-09-08 21:53:50|  0.0028948147997729|        true|\n",
      "|     ira-defi-ira|    Defi-Ira|     IRA|2032|  true|     true|token|                    |               NULL|                NA|          false|                  NA|                  NA|              NA|   220217352| 222000000|2024-09-08 21:53:50|0.001255243738168156|        true|\n",
      "|    infc-infinect|    Infinect|    INFC|2863|  true|     true|token|                    |               NULL|                NA|           true|                  NA|                  NA|              NA|   100000000|         0|2024-09-08 21:53:50| 1.65652312256817E-4|        true|\n",
      "+-----------------+------------+--------+----+------+---------+-----+--------------------+-------------------+------------------+---------------+--------------------+--------------------+----------------+------------+----------+-------------------+--------------------+------------+\n",
      "\n"
     ]
    }
   ],
   "source": [
    "# Create a DataFrame with the schema enforced\n",
    "df = session.createDataFrame(check, schema=schema)\n",
    "# Extract price_usd from quotes['USD']['price']\n",
    "df = df.withColumn(\"price_usd\", col(\"quotes.USD.price\").cast(DoubleType()))\n",
    "# Convert 'started_at' and 'last_updated' columns from StringType to TimestampType\n",
    "df = df.withColumn(\"started_at\", to_timestamp(col(\"started_at\"), \"yyyy-MM-dd'T'HH:mm:ss'Z'\")) \\\n",
    "       .withColumn(\"last_updated\", to_timestamp(col(\"last_updated\"), \"yyyy-MM-dd'T'HH:mm:ss'Z'\"))\n",
    "\n",
    "# Add the new column is_monitored with a default value of True\n",
    "df = df.withColumn(\"is_monitored\", lit(True))\n",
    "\n",
    "# Drop the 'quotes' column since it's no longer needed\n",
    "df = df.drop(\"quotes\")\n",
    "\n",
    "# Fill any null values with 'NA'\n",
    "df = df.fillna(\"NA\")\n",
    "\n",
    "df.show()"
   ]
  },
  {
   "cell_type": "code",
   "execution_count": 15,
   "metadata": {},
   "outputs": [
    {
     "name": "stderr",
     "output_type": "stream",
     "text": [
      "                                                                                \r"
     ]
    },
    {
     "name": "stdout",
     "output_type": "stream",
     "text": [
      "+-----------------+------------+--------+----+------+---------+-----+---------------------------------------------------------------------------------------------------------------------------------------------------------------------------------------------------------------------------------------------------------------------------------------------------------------------------------------------------------------------------------------------------------------------------------------------------------------------------------------------------------------------------------------------------------------------------------------------------------------------------------------------------------------------------------------------------------------------------------------------------------------------------------------+--------------------+------------------+---------------+-------------------------+--------------------------+----------------+------------+----------+--------------------+--------------------+\n",
      "|id               |name        |symbol  |rank|is_new|is_active|type |description                                                                                                                                                                                                                                                                                                                                                                                                                                                                                                                                                                                                                                                                                                                                                                            |started_at          |development_status|hardware_wallet|proof_type               |org_structure             |hash_algorithm  |total_supply|max_supply|last_updated        |price_usd           |\n",
      "+-----------------+------------+--------+----+------+---------+-----+---------------------------------------------------------------------------------------------------------------------------------------------------------------------------------------------------------------------------------------------------------------------------------------------------------------------------------------------------------------------------------------------------------------------------------------------------------------------------------------------------------------------------------------------------------------------------------------------------------------------------------------------------------------------------------------------------------------------------------------------------------------------------------------+--------------------+------------------+---------------+-------------------------+--------------------------+----------------+------------+----------+--------------------+--------------------+\n",
      "|btc-bitcoin      |Bitcoin     |BTC     |1   |false |true     |coin |Bitcoin is a cryptocurrency and worldwide payment system. It is the first decentralized digital currency, as the system works without a central bank or single administrator.                                                                                                                                                                                                                                                                                                                                                                                                                                                                                                                                                                                                          |2009-01-03T00:00:00Z|Working product   |true           |Proof of Work            |Decentralized             |SHA256          |19718978    |21000000  |2024-09-08T21:53:35Z|54483.840025416335  |\n",
      "|eth-ethereum     |Ethereum    |ETH     |2   |false |true     |coin |Ethereum is a decentralized platform for applications. Applications build on it can use smart contracts - computer algorithms which execute themselves when data is supplied to the platform. There is no need for any human operators.                                                                                                                                                                                                                                                                                                                                                                                                                                                                                                                                                |2015-07-30T00:00:00Z|Working product   |true           |Proof of Stake           |Semi-centralized          |Ethash          |120232214   |0         |2024-09-08T21:44:35Z|2285.370034194849   |\n",
      "|usdt-tether      |Tether      |USDT    |3   |false |true     |token|Tether (USDT) is a cryptocurrency with reference to fiat currencies that is issued by Tether Limited Company.\\r\\nUsing the technology of Blockchain, Tether allows the users to keep, send and receive digital tokens pegged to dollars, euros and yens*.\\r\\n\\r\\n*1USDT =/= 1USD - according to ToS (Terms-of-service) of Tether Limited Company - Tether tokens are not money, although they are backed by the currency used to purchase them at issuance.                                                                                                                                                                                                                                                                                                                            |2015-02-25T00:00:00Z|Working product   |true           |Not mineable             |Centralized               |None            |123529724022|0         |2024-09-08T21:53:36Z|1.0007947852141215  |\n",
      "|bnb-binance-coin |Binance Coin|BNB     |4   |false |true     |coin |Binance Coin is the digital token of the Binance exchange. \\r\\nIt is an exchanging token only for cryptographic forms of money. The name \"Binance\" is a blend of binary and finance.                                                                                                                                                                                                                                                                                                                                                                                                                                                                                                                                                                                                   |2017-07-15T00:00:00Z|Working product   |true           |Byzantine Fault Tolerance|Centralized               |Tendermint (BFT)|148930232   |200000000 |2024-09-08T21:53:36Z|499.27985934610143  |\n",
      "|sol-solana       |Solana      |SOL     |5   |false |true     |coin |Solana is a public blockchain. It is open-source and decentralised, and achieves consensus using a proof-of-stake algorithm together with a novel algorithm called proof-of-history. Its internal cryptocurrency has the symbol SOL. Bloomberg considers the platform \"a potential long-term rival to Ethereum.\" Like Ethereum, Solana can interact with smart contracts.\\r\\n\\r\\nOn 14 September 2021, Solana's blockchain went offline after a wave of transactions caused discord between network participants and a subsequent split into multiple blocks. The network was successfully restored early on 15 September. Solana can likely handle 50,000 transactions per second, making it faster than Ethereum, but still lower than the 400,000 transactions seen during the peak.|2020-04-10T00:00:00Z|Working product   |false          |Delegated Proof of Stake |Centralized > Hierarchical|Tower BFT       |584141277   |0         |2024-09-08T21:50:36Z|129.31875402599422  |\n",
      "|sherk-sherk      |Sherk       |SHERK   |1391|true  |true     |token|                                                                                                                                                                                                                                                                                                                                                                                                                                                                                                                                                                                                                                                                                                                                                                                       |NULL                |NULL              |true           |NULL                     |NULL                      |NULL            |1000000000  |1000000000|2024-09-08T21:53:50Z|8.293676390066597E-4|\n",
      "|dotz-dotz        |DOTZ        |DOTZ    |1440|true  |true     |token|                                                                                                                                                                                                                                                                                                                                                                                                                                                                                                                                                                                                                                                                                                                                                                                       |NULL                |NULL              |false          |NULL                     |NULL                      |NULL            |828974605   |1000000000|2024-09-08T21:53:50Z|0.002123294989146141|\n",
      "|vistadog-vistadog|VISTADOG    |VISTADOG|1549|true  |true     |token|                                                                                                                                                                                                                                                                                                                                                                                                                                                                                                                                                                                                                                                                                                                                                                                       |NULL                |NULL              |true           |NULL                     |NULL                      |NULL            |100000000   |100000000 |2024-09-08T21:53:50Z|0.0028948147997729  |\n",
      "|ira-defi-ira     |Defi-Ira    |IRA     |2032|true  |true     |token|                                                                                                                                                                                                                                                                                                                                                                                                                                                                                                                                                                                                                                                                                                                                                                                       |NULL                |NULL              |false          |NULL                     |NULL                      |NULL            |220217352   |222000000 |2024-09-08T21:53:50Z|0.001255243738168156|\n",
      "|infc-infinect    |Infinect    |INFC    |2863|true  |true     |token|                                                                                                                                                                                                                                                                                                                                                                                                                                                                                                                                                                                                                                                                                                                                                                                       |NULL                |NULL              |true           |NULL                     |NULL                      |NULL            |100000000   |0         |2024-09-08T21:53:50Z|1.65652312256817E-4 |\n",
      "+-----------------+------------+--------+----+------+---------+-----+---------------------------------------------------------------------------------------------------------------------------------------------------------------------------------------------------------------------------------------------------------------------------------------------------------------------------------------------------------------------------------------------------------------------------------------------------------------------------------------------------------------------------------------------------------------------------------------------------------------------------------------------------------------------------------------------------------------------------------------------------------------------------------------+--------------------+------------------+---------------+-------------------------+--------------------------+----------------+------------+----------+--------------------+--------------------+\n",
      "\n"
     ]
    }
   ],
   "source": [
    "df_selected = df.select(\n",
    "    col('id'),\n",
    "    col('name'),\n",
    "    col('symbol'),\n",
    "    col('rank'),\n",
    "    col('is_new'),\n",
    "    col('is_active'),\n",
    "    col('type'),\n",
    "    col('description'),\n",
    "    col('started_at'),\n",
    "    col('development_status'),\n",
    "    col('hardware_wallet'),\n",
    "    col('proof_type'),\n",
    "    col('org_structure'),\n",
    "    col('hash_algorithm'),\n",
    "    col('total_supply'),\n",
    "    col('max_supply'),\n",
    "    col('last_updated'),\n",
    "    col('quotes.USD.price').alias('price_usd')  # Extract price_usd from quotes dictionary\n",
    ")\n",
    "\n",
    "# Show the resulting DataFrame\n",
    "df_selected.show(truncate=False)"
   ]
  },
  {
   "cell_type": "code",
   "execution_count": 20,
   "metadata": {},
   "outputs": [],
   "source": [
    "# Replace all null values with \"NA\"\n",
    "df = df.fillna(\"NA\")\n",
    "df_selected.show(truncate=False)"
   ]
  },
  {
   "cell_type": "code",
   "execution_count": 39,
   "metadata": {},
   "outputs": [
    {
     "data": {
      "text/plain": [
       "{'id': 'btc-bitcoin',\n",
       " 'name': 'Bitcoin',\n",
       " 'symbol': 'BTC',\n",
       " 'rank': 1,\n",
       " 'is_new': False,\n",
       " 'is_active': True,\n",
       " 'type': 'coin',\n",
       " 'logo': 'https://static.coinpaprika.com/coin/btc-bitcoin/logo.png',\n",
       " 'tags': [{'id': 'segwit',\n",
       "   'name': 'Segwit',\n",
       "   'coin_counter': 12,\n",
       "   'ico_counter': 0},\n",
       "  {'id': 'cryptocurrency',\n",
       "   'name': 'Cryptocurrency',\n",
       "   'coin_counter': 1149,\n",
       "   'ico_counter': 40},\n",
       "  {'id': 'proof-of-work',\n",
       "   'name': 'Proof Of Work',\n",
       "   'coin_counter': 996,\n",
       "   'ico_counter': 0},\n",
       "  {'id': 'payments',\n",
       "   'name': 'Payments',\n",
       "   'coin_counter': 185,\n",
       "   'ico_counter': 39},\n",
       "  {'id': 'sha256', 'name': 'Sha256', 'coin_counter': 93, 'ico_counter': 0},\n",
       "  {'id': 'mining', 'name': 'Mining', 'coin_counter': 576, 'ico_counter': 3},\n",
       "  {'id': 'lightning-network',\n",
       "   'name': 'Lightning Network',\n",
       "   'coin_counter': 8,\n",
       "   'ico_counter': 0},\n",
       "  {'id': 'layer-1-l1',\n",
       "   'name': 'Layer 1 (L1)',\n",
       "   'coin_counter': 113,\n",
       "   'ico_counter': 0},\n",
       "  {'id': 'ftx-holdings',\n",
       "   'name': 'FTX Holdings',\n",
       "   'coin_counter': 15,\n",
       "   'ico_counter': 0}],\n",
       " 'team': [{'id': 'satoshi-nakamoto',\n",
       "   'name': 'Satoshi Nakamoto',\n",
       "   'position': 'Founder'},\n",
       "  {'id': 'wladimir-j-van-der-laan',\n",
       "   'name': 'Wladimir J. van der Laan',\n",
       "   'position': 'Blockchain Developer'},\n",
       "  {'id': 'jonas-schnelli',\n",
       "   'name': 'Jonas Schnelli',\n",
       "   'position': 'Blockchain Developer'},\n",
       "  {'id': 'marco-falke',\n",
       "   'name': 'Marco Falke',\n",
       "   'position': 'Blockchain Developer'}],\n",
       " 'description': 'Bitcoin is a cryptocurrency and worldwide payment system. It is the first decentralized digital currency, as the system works without a central bank or single administrator.',\n",
       " 'message': '',\n",
       " 'open_source': True,\n",
       " 'started_at': '2009-01-03T00:00:00Z',\n",
       " 'development_status': 'Working product',\n",
       " 'hardware_wallet': True,\n",
       " 'proof_type': 'Proof of Work',\n",
       " 'org_structure': 'Decentralized',\n",
       " 'hash_algorithm': 'SHA256',\n",
       " 'links': {'explorer': ['https://blockchair.com/bitcoin/?from=coinpaprika',\n",
       "   'https://blockchain.com/explorer',\n",
       "   'https://blockstream.info/',\n",
       "   'https://live.blockcypher.com/btc/',\n",
       "   'https://btc.cryptoid.info/btc/'],\n",
       "  'facebook': ['https://www.facebook.com/bitcoins/'],\n",
       "  'reddit': ['https://www.reddit.com/r/bitcoin'],\n",
       "  'source_code': ['https://github.com/bitcoin/bitcoin'],\n",
       "  'website': ['https://bitcoin.org/'],\n",
       "  'youtube': ['https://www.youtube.com/watch?v=Gc2en3nHxA4&']},\n",
       " 'links_extended': [{'url': 'https://bitcoin.org/en/blog', 'type': 'blog'},\n",
       "  {'url': 'https://blockchair.com/bitcoin/?from=coinpaprika',\n",
       "   'type': 'explorer'},\n",
       "  {'url': 'https://blockchain.com/explorer', 'type': 'explorer'},\n",
       "  {'url': 'https://blockstream.info/', 'type': 'explorer'},\n",
       "  {'url': 'https://live.blockcypher.com/btc/', 'type': 'explorer'},\n",
       "  {'url': 'https://btc.cryptoid.info/btc/', 'type': 'explorer'},\n",
       "  {'url': 'https://www.facebook.com/bitcoins/', 'type': 'facebook'},\n",
       "  {'url': 'https://bitcointalk.org', 'type': 'message_board'},\n",
       "  {'url': 'https://www.reddit.com/r/bitcoin',\n",
       "   'type': 'reddit',\n",
       "   'stats': {'subscribers': 5958815}},\n",
       "  {'url': 'https://github.com/bitcoin/bitcoin',\n",
       "   'type': 'source_code',\n",
       "   'stats': {'contributors': 1201, 'stars': 78218}},\n",
       "  {'url': 'https://twitter.com/bitcoincoreorg',\n",
       "   'type': 'twitter',\n",
       "   'stats': {'followers': 161310}},\n",
       "  {'url': 'https://electrum.org/#download', 'type': 'wallet'},\n",
       "  {'url': 'https://bitcoin.org/', 'type': 'website'},\n",
       "  {'url': 'https://www.youtube.com/watch?v=Gc2en3nHxA4&', 'type': 'youtube'}],\n",
       " 'whitepaper': {'link': 'https://static.coinpaprika.com/storage/cdn/whitepapers/215.pdf',\n",
       "  'thumbnail': 'https://static.coinpaprika.com/storage/cdn/whitepapers/217.jpg'},\n",
       " 'first_data_at': '2010-07-17T00:00:00Z',\n",
       " 'last_data_at': '2024-09-08T21:54:00Z',\n",
       " 'total_supply': 19718978,\n",
       " 'max_supply': 21000000,\n",
       " 'beta_value': 0.97704,\n",
       " 'last_updated': '2024-09-08T21:53:35Z',\n",
       " 'quotes': {'USD': {'price': 54483.840025416335,\n",
       "   'volume_24h': 16229494980.444132,\n",
       "   'volume_24h_change_24h': -16.92,\n",
       "   'market_cap': 1074365642817,\n",
       "   'market_cap_change_24h': 0.88,\n",
       "   'percent_change_15m': -0.02,\n",
       "   'percent_change_30m': 0.11,\n",
       "   'percent_change_1h': 0.12,\n",
       "   'percent_change_6h': 1.08,\n",
       "   'percent_change_12h': -0.18,\n",
       "   'percent_change_24h': 0.88,\n",
       "   'percent_change_7d': -5.77,\n",
       "   'percent_change_30d': -10.84,\n",
       "   'percent_change_1y': 110.68,\n",
       "   'ath_price': 73686.92856165291,\n",
       "   'ath_date': '2024-03-14T07:07:09Z',\n",
       "   'percent_from_price_ath': -26.06}}}"
      ]
     },
     "execution_count": 39,
     "metadata": {},
     "output_type": "execute_result"
    }
   ],
   "source": [
    "check[0]"
   ]
  },
  {
   "cell_type": "code",
   "execution_count": null,
   "metadata": {},
   "outputs": [],
   "source": [
    "session.stop()"
   ]
  }
 ],
 "metadata": {
  "kernelspec": {
   "display_name": "env-coin-de",
   "language": "python",
   "name": "python3"
  },
  "language_info": {
   "codemirror_mode": {
    "name": "ipython",
    "version": 3
   },
   "file_extension": ".py",
   "mimetype": "text/x-python",
   "name": "python",
   "nbconvert_exporter": "python",
   "pygments_lexer": "ipython3",
   "version": "3.10.14"
  }
 },
 "nbformat": 4,
 "nbformat_minor": 2
}
